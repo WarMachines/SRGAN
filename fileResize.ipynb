{
 "cells": [
  {
   "cell_type": "code",
   "execution_count": 2,
   "metadata": {},
   "outputs": [],
   "source": [
    "\n",
    "from PIL import Image\n",
    "import os, sys\n",
    "\n",
    "path = \"C:\\\\Users\\\\saura\\\\Downloads\\\\DIV2K_train_HR\\\\DIV2K_train_HR\"\n",
    "dirs = os.listdir( path )\n",
    "\n",
    "def resize():\n",
    "    for item in dirs:\n",
    "        im = Image.open(path+\"\\\\\"+item)\n",
    "        imResize = im.resize((512,512), Image.ANTIALIAS)\n",
    "        imResize.save(\"C:\\\\Users\\\\saura\\\\Downloads\\\\DIV2K_valid_HR\\\\HR\\\\\"+ item, quality=100)\n",
    "\n",
    "resize()"
   ]
  },
  {
   "cell_type": "code",
   "execution_count": null,
   "metadata": {},
   "outputs": [],
   "source": []
  },
  {
   "cell_type": "code",
   "execution_count": null,
   "metadata": {},
   "outputs": [],
   "source": []
  }
 ],
 "metadata": {
  "kernelspec": {
   "display_name": "Python 3",
   "language": "python",
   "name": "python3"
  },
  "language_info": {
   "codemirror_mode": {
    "name": "ipython",
    "version": 3
   },
   "file_extension": ".py",
   "mimetype": "text/x-python",
   "name": "python",
   "nbconvert_exporter": "python",
   "pygments_lexer": "ipython3",
   "version": "3.7.4"
  }
 },
 "nbformat": 4,
 "nbformat_minor": 2
}
